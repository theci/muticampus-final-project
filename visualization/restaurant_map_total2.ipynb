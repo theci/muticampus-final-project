{
 "cells": [
  {
   "cell_type": "markdown",
   "id": "23f00ed3",
   "metadata": {},
   "source": [
    "### 더본코리아 브랜드별 음식점 위치 지도 생성(지점별 정보 제공)"
   ]
  },
  {
   "cell_type": "code",
   "execution_count": 1,
   "id": "020f499f",
   "metadata": {},
   "outputs": [
    {
     "name": "stdout",
     "output_type": "stream",
     "text": [
      "Defaulting to user installation because normal site-packages is not writeable\n",
      "Requirement already satisfied: folium in c:\\users\\lwg14\\appdata\\roaming\\python\\python39\\site-packages (0.13.0)\n",
      "Requirement already satisfied: numpy in c:\\programdata\\anaconda3\\lib\\site-packages (from folium) (1.21.5)\n",
      "Requirement already satisfied: requests in c:\\programdata\\anaconda3\\lib\\site-packages (from folium) (2.27.1)\n",
      "Requirement already satisfied: jinja2>=2.9 in c:\\programdata\\anaconda3\\lib\\site-packages (from folium) (2.11.3)\n",
      "Requirement already satisfied: branca>=0.3.0 in c:\\users\\lwg14\\appdata\\roaming\\python\\python39\\site-packages (from folium) (0.6.0)\n",
      "Requirement already satisfied: MarkupSafe>=0.23 in c:\\programdata\\anaconda3\\lib\\site-packages (from jinja2>=2.9->folium) (2.0.1)\n",
      "Requirement already satisfied: certifi>=2017.4.17 in c:\\programdata\\anaconda3\\lib\\site-packages (from requests->folium) (2021.10.8)\n",
      "Requirement already satisfied: idna<4,>=2.5 in c:\\programdata\\anaconda3\\lib\\site-packages (from requests->folium) (3.3)\n",
      "Requirement already satisfied: charset-normalizer~=2.0.0 in c:\\programdata\\anaconda3\\lib\\site-packages (from requests->folium) (2.0.4)\n",
      "Requirement already satisfied: urllib3<1.27,>=1.21.1 in c:\\programdata\\anaconda3\\lib\\site-packages (from requests->folium) (1.26.9)\n"
     ]
    }
   ],
   "source": [
    "! pip install folium"
   ]
  },
  {
   "cell_type": "code",
   "execution_count": 2,
   "id": "0990abdc",
   "metadata": {},
   "outputs": [],
   "source": [
    "import folium\n",
    "import pandas as pd"
   ]
  },
  {
   "cell_type": "code",
   "execution_count": 4,
   "id": "b7a6de43",
   "metadata": {},
   "outputs": [
    {
     "data": {
      "text/html": [
       "<div>\n",
       "<style scoped>\n",
       "    .dataframe tbody tr th:only-of-type {\n",
       "        vertical-align: middle;\n",
       "    }\n",
       "\n",
       "    .dataframe tbody tr th {\n",
       "        vertical-align: top;\n",
       "    }\n",
       "\n",
       "    .dataframe thead th {\n",
       "        text-align: right;\n",
       "    }\n",
       "</style>\n",
       "<table border=\"1\" class=\"dataframe\">\n",
       "  <thead>\n",
       "    <tr style=\"text-align: right;\">\n",
       "      <th></th>\n",
       "      <th>brand</th>\n",
       "      <th>city</th>\n",
       "      <th>store</th>\n",
       "      <th>address</th>\n",
       "      <th>Latitude</th>\n",
       "      <th>Longitude</th>\n",
       "      <th>telephone</th>\n",
       "      <th>openhour</th>\n",
       "      <th>img</th>\n",
       "    </tr>\n",
       "  </thead>\n",
       "  <tbody>\n",
       "    <tr>\n",
       "      <th>0</th>\n",
       "      <td>빽다방</td>\n",
       "      <td>서울특별시</td>\n",
       "      <td>뚝섬상원길점</td>\n",
       "      <td>서울 성동구 상원길 50</td>\n",
       "      <td>37.548375</td>\n",
       "      <td>127.048435</td>\n",
       "      <td>02-6956-8668</td>\n",
       "      <td>평일 07:30 ~ 22:30 / 주말 8:30~22:00</td>\n",
       "      <td>https://theborndb.theborn.co.kr/wp-content/upl...</td>\n",
       "    </tr>\n",
       "    <tr>\n",
       "      <th>1</th>\n",
       "      <td>고투웍</td>\n",
       "      <td>서울특별시</td>\n",
       "      <td>강남CGV점</td>\n",
       "      <td>서울 강남구 강남대로 438 2층 212호</td>\n",
       "      <td>37.501662</td>\n",
       "      <td>127.026363</td>\n",
       "      <td>070-4070-8764</td>\n",
       "      <td>11:00 ~ 21:00 / 15:00 ~ 17:00 브레이크 타임</td>\n",
       "      <td>https://theborndb.theborn.co.kr/wp-content/upl...</td>\n",
       "    </tr>\n",
       "    <tr>\n",
       "      <th>2</th>\n",
       "      <td>연돈볼카츠</td>\n",
       "      <td>서울특별시</td>\n",
       "      <td>이마트용산점</td>\n",
       "      <td>서울 용산구 한강대로23길 55 (한강로3가, 용산역) 지하2층 이마트용산점 內</td>\n",
       "      <td>37.529444</td>\n",
       "      <td>126.965556</td>\n",
       "      <td>미등록</td>\n",
       "      <td>10:00 ~21:00(브레이크타임 13:30~15:00)</td>\n",
       "      <td>https://theborndb.theborn.co.kr/wp-content/upl...</td>\n",
       "    </tr>\n",
       "    <tr>\n",
       "      <th>3</th>\n",
       "      <td>빽다방</td>\n",
       "      <td>서울특별시</td>\n",
       "      <td>잠실레이크팰리스점</td>\n",
       "      <td>서울 송파구 석촌호수로 144</td>\n",
       "      <td>37.506905</td>\n",
       "      <td>127.092979</td>\n",
       "      <td>070-8287-1231</td>\n",
       "      <td>08:00 ~ 22:00</td>\n",
       "      <td>https://theborndb.theborn.co.kr/wp-content/upl...</td>\n",
       "    </tr>\n",
       "    <tr>\n",
       "      <th>4</th>\n",
       "      <td>빽보이피자</td>\n",
       "      <td>서울특별시</td>\n",
       "      <td>노원역점</td>\n",
       "      <td>서울 노원구 상계로1길 14-11 (상계동, 하이웰빙상가) 하이웰빙상가 1층</td>\n",
       "      <td>37.657018</td>\n",
       "      <td>127.061749</td>\n",
       "      <td>포장 주문 번호 1668-1931</td>\n",
       "      <td>11:00 ~ 22:00</td>\n",
       "      <td>https://theborndb.theborn.co.kr/wp-content/upl...</td>\n",
       "    </tr>\n",
       "  </tbody>\n",
       "</table>\n",
       "</div>"
      ],
      "text/plain": [
       "   brand   city      store                                       address  \\\n",
       "0    빽다방  서울특별시     뚝섬상원길점                                 서울 성동구 상원길 50   \n",
       "1    고투웍  서울특별시     강남CGV점                       서울 강남구 강남대로 438 2층 212호   \n",
       "2  연돈볼카츠  서울특별시     이마트용산점  서울 용산구 한강대로23길 55 (한강로3가, 용산역) 지하2층 이마트용산점 內   \n",
       "3    빽다방  서울특별시  잠실레이크팰리스점                              서울 송파구 석촌호수로 144   \n",
       "4  빽보이피자  서울특별시       노원역점    서울 노원구 상계로1길 14-11 (상계동, 하이웰빙상가) 하이웰빙상가 1층   \n",
       "\n",
       "    Latitude   Longitude           telephone  \\\n",
       "0  37.548375  127.048435        02-6956-8668   \n",
       "1  37.501662  127.026363       070-4070-8764   \n",
       "2  37.529444  126.965556                 미등록   \n",
       "3  37.506905  127.092979       070-8287-1231   \n",
       "4  37.657018  127.061749  포장 주문 번호 1668-1931   \n",
       "\n",
       "                                openhour  \\\n",
       "0       평일 07:30 ~ 22:30 / 주말 8:30~22:00   \n",
       "1  11:00 ~ 21:00 / 15:00 ~ 17:00 브레이크 타임   \n",
       "2       10:00 ~21:00(브레이크타임 13:30~15:00)   \n",
       "3                          08:00 ~ 22:00   \n",
       "4                          11:00 ~ 22:00   \n",
       "\n",
       "                                                 img  \n",
       "0  https://theborndb.theborn.co.kr/wp-content/upl...  \n",
       "1  https://theborndb.theborn.co.kr/wp-content/upl...  \n",
       "2  https://theborndb.theborn.co.kr/wp-content/upl...  \n",
       "3  https://theborndb.theborn.co.kr/wp-content/upl...  \n",
       "4  https://theborndb.theborn.co.kr/wp-content/upl...  "
      ]
     },
     "execution_count": 4,
     "metadata": {},
     "output_type": "execute_result"
    }
   ],
   "source": [
    "# 음식점 정보 파일 불러오기\n",
    "data = pd.read_csv(\"C:/dataset/theborn_store_info_location.csv\")\n",
    "\n",
    "# 서울특별시 음식점만 추출하여 data에 저장\n",
    "data = data.loc[data[\"city\"]==\"서울특별시\"]\n",
    "data.head()"
   ]
  },
  {
   "cell_type": "code",
   "execution_count": 9,
   "id": "3b0df5ce",
   "metadata": {},
   "outputs": [
    {
     "data": {
      "text/plain": [
       "array(['빽다방', '고투웍', '연돈볼카츠', '빽보이피자', '제순식당', '백스비어', '인생설렁탕', '한신포차',\n",
       "       '역전우동0410', nan, '리춘시장', '홍콩반점0410', '롤링파스타', '성성식당', '막이오름',\n",
       "       '새마을식당', '본가', '미정국수0410', '원조쌈밥집', '돌배기집', '백철판0410', '분식9단',\n",
       "       '구내식당', \"백's 비빔밥\"], dtype=object)"
      ]
     },
     "execution_count": 9,
     "metadata": {},
     "output_type": "execute_result"
    }
   ],
   "source": [
    "# 더본코리아 브랜드 종류 확인\n",
    "data[\"brand\"].unique()"
   ]
  },
  {
   "cell_type": "code",
   "execution_count": 10,
   "id": "13a966dd",
   "metadata": {},
   "outputs": [],
   "source": [
    "# 브랜드 종류 리스트화, 결측값 제외\n",
    "brand_list = data[\"brand\"].unique().tolist()\n",
    "del brand_list[9]"
   ]
  },
  {
   "cell_type": "markdown",
   "id": "797a859a",
   "metadata": {},
   "source": [
    "### 브랜드별 지도 생성"
   ]
  },
  {
   "cell_type": "code",
   "execution_count": 35,
   "id": "1ad60895",
   "metadata": {},
   "outputs": [],
   "source": [
    "for brand_name in brand_list:\n",
    "    brand_data = data.loc[data[\"brand\"]== brand_name] \n",
    "\n",
    "    m = folium.Map(location=[37.559819, 126.963895],\n",
    "               zoom_start=11, \n",
    "               width=750, \n",
    "               height=500\n",
    "              )\n",
    "\n",
    "    # 위도\n",
    "    latitude = brand_data[\"Latitude\"]\n",
    "    # 경도\n",
    "    longitude = brand_data[\"Longitude\"]\n",
    "    # 매장명\n",
    "    store_name = brand_data[\"store\"]\n",
    "    # 전화번호\n",
    "    telephone = brand_data[\"telephone\"]\n",
    "    # 도로명주소\n",
    "    address = brand_data[\"address\"]\n",
    "    # 영업시간\n",
    "    openhour = brand_data[\"openhour\"]\n",
    "    # 매장이미지\n",
    "    img = brand_data[\"img\"]\n",
    "\n",
    "    for i,j,k,l,p,oh,im in zip(latitude,longitude, store_name, telephone, address, openhour, img) :\n",
    "        html = \"<h2>{} {}<br><h4><b>전화번호</b> : {}<br><br><b>지점주소</b> : {}<br><br><b>영업시간</b> : {} <br><br><img src = '{}'width='300' height='200'>\".format(brand_name,k,l,p,oh,im)\n",
    "        iframe = folium.IFrame(html)\n",
    "        popup = folium.Popup(iframe, src = \"{}\".format(im),\n",
    "                        min_width=400,\n",
    "                        max_width=1500,\n",
    "                        min_height=700,\n",
    "                        max_height=1000\n",
    "                        )\n",
    "        \n",
    "        folium.Marker([i,j],\n",
    "                    popup= popup,\n",
    "                    tooltip= k, \n",
    "                    icon=folium.Icon('red', icon='star'),\n",
    "                    ).add_to(m)\n",
    "        \n",
    "    m.save('C:/MULTI_PROJECT_3/visualization/map/'+brand_name+'map.html')\n",
    "\n"
   ]
  },
  {
   "cell_type": "code",
   "execution_count": null,
   "id": "fa49c8ae",
   "metadata": {},
   "outputs": [],
   "source": []
  }
 ],
 "metadata": {
  "kernelspec": {
   "display_name": "Python 3.9.12 ('base')",
   "language": "python",
   "name": "python3"
  },
  "language_info": {
   "codemirror_mode": {
    "name": "ipython",
    "version": 3
   },
   "file_extension": ".py",
   "mimetype": "text/x-python",
   "name": "python",
   "nbconvert_exporter": "python",
   "pygments_lexer": "ipython3",
   "version": "3.9.12"
  },
  "vscode": {
   "interpreter": {
    "hash": "ad2bdc8ecc057115af97d19610ffacc2b4e99fae6737bb82f5d7fb13d2f2c186"
   }
  }
 },
 "nbformat": 4,
 "nbformat_minor": 5
}
