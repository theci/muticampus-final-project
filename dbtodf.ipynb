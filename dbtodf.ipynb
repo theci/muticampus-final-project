{
 "cells": [
  {
   "cell_type": "code",
   "execution_count": 2,
   "metadata": {},
   "outputs": [],
   "source": [
    "import pymysql\n",
    "import pandas as pd\n",
    "\n",
    "conn = pymysql.connect(host='localhost',\n",
    "                       user='root',\n",
    "                       password='0610',\n",
    "                       db='new_1128',\n",
    "                       charset='utf8')\n",
    "\n",
    "sql_column = \"\"\"SELECT  COLUMN_NAME\n",
    "FROM    INFORMATION_SCHEMA.COLUMNS\n",
    "WHERE   TABLE_NAME = 'menu_score_all';\"\"\"\n",
    "\n",
    "with conn:\n",
    "    with conn.cursor() as cur:\n",
    "        cur.execute(sql_column)\n",
    "        result_column = cur.fetchall()\n",
    "\n",
    "conn = pymysql.connect(host='localhost',\n",
    "                       user='root',\n",
    "                       password='0610',\n",
    "                       db='new_1128',\n",
    "                       charset='utf8')\n",
    "\n",
    "sql = \"SELECT * FROM menu_score_all\"\n",
    "\n",
    "with conn:\n",
    "    with conn.cursor() as cur:\n",
    "        cur.execute(sql)\n",
    "        result = cur.fetchall()\n",
    "        df = pd.DataFrame(result, columns = result_column)\n",
    "        \n",
    "\n"
   ]
  },
  {
   "cell_type": "code",
   "execution_count": 41,
   "metadata": {},
   "outputs": [
    {
     "data": {
      "text/plain": [
       "29"
      ]
     },
     "execution_count": 41,
     "metadata": {},
     "output_type": "execute_result"
    }
   ],
   "source": [
    "len(df.columns)"
   ]
  },
  {
   "cell_type": "code",
   "execution_count": 38,
   "metadata": {},
   "outputs": [
    {
     "data": {
      "text/plain": [
       "MultiIndex([(             'menu',),\n",
       "            (       'restaurant',),\n",
       "            (     'happy_winter',),\n",
       "            ('happy_winter_snow',),\n",
       "            ('happy_winter_rain',),\n",
       "            (       'happy_fall',),\n",
       "            (  'happy_fall_rain',),\n",
       "            (     'happy_summer',),\n",
       "            ('happy_summer_rain',),\n",
       "            (     'happy_spring',),\n",
       "            ('happy_spring_rain',),\n",
       "            (  'sad_spring_rain',),\n",
       "            (       'sad_spring',),\n",
       "            (  'sad_summer_rain',),\n",
       "            (       'sad_summer',),\n",
       "            (    'sad_fall_rain',),\n",
       "            (         'sad_fall',),\n",
       "            (  'sad_winter_rain',),\n",
       "            (       'sad_winter',),\n",
       "            (  'sad_winter_snow',),\n",
       "            (     'angry_winter',),\n",
       "            ('angry_winter_snow',),\n",
       "            ('angry_winter_rain',),\n",
       "            (       'angry_fall',),\n",
       "            (  'angry_fall_rain',),\n",
       "            (     'angry_summer',),\n",
       "            ('angry_summer_rain',),\n",
       "            (     'angry_spring',),\n",
       "            ('angry_spring_rain',)],\n",
       "           )"
      ]
     },
     "execution_count": 38,
     "metadata": {},
     "output_type": "execute_result"
    }
   ],
   "source": [
    "df.columns"
   ]
  },
  {
   "cell_type": "code",
   "execution_count": 21,
   "metadata": {},
   "outputs": [],
   "source": [
    "# 조건에 따라 결정된 컬럼을 기준으로 내림차순 정렬\n",
    "df_sort = df.sort_values(('happy_winter',),ascending=False)\n",
    "\n",
    "# 내림차순 정렬된 df에서 메뉴명, 레스토랑명, 조건가중치열만 추출\n",
    "df_three_col = pd.DataFrame(df_sort[[(\"menu\",),(\"restaurant\",),(\"happy_winter\",)]])\n",
    "\n",
    "df_three_col.reset_index(drop=True, inplace=True)\n",
    "\n",
    "\n",
    "# 가중치로 정렬했을때 상위 다섯개 레스토랑명 추출\n",
    "\n",
    "restaurant_list = []\n",
    "\n",
    "while len(set(restaurant_list))<5:\n",
    "    for restaurant_name in range(100):\n",
    "        restaurant_list.append(df_three_col.iloc[restaurant_name,1])\n",
    "\n",
    "set(restaurant_list)\n",
    "\n",
    "\n",
    "# 가중치로 정렬했을때 상위 다섯개 가중치 값 추출\n",
    "score_list = []\n",
    "\n",
    "while len(set(score_list))<5:\n",
    "    for score in range(100):\n",
    "        score_list.append(df_three_col.iloc[score,2])\n",
    "\n",
    "set(score_list)\n",
    "\n",
    "menu_set1 = []\n",
    "menu_set2 = []\n",
    "menu_set3 = []\n",
    "menu_set4 = []\n",
    "menu_set5 = []\n",
    "\n"
   ]
  },
  {
   "cell_type": "code",
   "execution_count": 23,
   "metadata": {},
   "outputs": [
    {
     "data": {
      "text/plain": [
       "{0.2, 0.7, 0.9, 1.0, 1.05}"
      ]
     },
     "execution_count": 23,
     "metadata": {},
     "output_type": "execute_result"
    }
   ],
   "source": [
    "set(score_list)"
   ]
  },
  {
   "cell_type": "code",
   "execution_count": 24,
   "metadata": {},
   "outputs": [],
   "source": [
    "\n",
    "\n",
    "\n",
    "# 조건에 따라 결정된 컬럼을 기준으로 내림차순 정렬\n",
    "df_sort = df.sort_values(('happy_winter',),ascending=False)\n",
    "\n",
    "# 내림차순 정렬된 df에서 메뉴명, 레스토랑명, 조건가중치열만 추출\n",
    "df_three_col = pd.DataFrame(df_sort[[(\"menu\",),(\"restaurant\",),(\"happy_winter\",)]])\n",
    "\n",
    "df_three_col.reset_index(drop=True, inplace=True)\n",
    "\n",
    "menu_set1 = []\n",
    "menu_set2 = []\n",
    "menu_set3 = []\n",
    "menu_set4 = []\n",
    "menu_set5 = []\n",
    "\n",
    "menu_set1.append(df_three_col.iloc[0,0])\n",
    "# 첫행 메뉴의 레스토랑명, 가중치를 a,b에 저장\n",
    "a = df_three_col.iloc[0,1]\n",
    "b = df_three_col.iloc[0,2]\n",
    "\n",
    "i = 1\n",
    "while i < (len(df_three_col)):\n",
    "    # 두번째 행 메뉴의 레스토랑명, 가중치를 a1,b1에 저장\n",
    "    a1 = df_three_col.iloc[i,1]\n",
    "    b1 = df_three_col.iloc[i,2]\n",
    "    # a2,b2 초기값 지정\n",
    "    a2 = 0\n",
    "    b2 = 0\n",
    "    # 첫 번째 행의 레스토랑, 가중치와 두번째 행의 레스토랑, 가중치 값 비교\n",
    "    # 같으면 menu_set1에 담아줌\n",
    "    if ((a1 == a) & (b1 == b))|((a1 == a2) & (b1 == b2)):\n",
    "        menu_set1.append(df_three_col.iloc[i,0])\n",
    "        a2 = df_three_col.iloc[i,1]\n",
    "        b2 = df_three_col.iloc[i,2]\n",
    "        i = i+1\n",
    "    # 다르면 menu_set2에 담아줌\n",
    "    elif ((a1 != a) & (b1 == b))| ((a1 == a) & (b1 != b))| ((a1 != a) & (b1 != b)):\n",
    "        menu_set2.append(df_three_col.iloc[i,0])\n",
    "        a3 = df_three_col.iloc[i,1]\n",
    "        b3 = df_three_col.iloc[i,2]\n",
    "        i = i+1\n",
    "    elif ((a1 != a) & (b1 == b))| ((a1 == a) & (b1 != b))| ((a1 != a) & (b1 != b)):\n",
    "        menu_set3.append(df_three_col.iloc[i,0])\n",
    "        a4 = df_three_col.iloc[i,1]\n",
    "        b4 = df_three_col.iloc[i,2]\n",
    "        i = i+1\n",
    "    elif ((a1 != a) & (b1 == b))| ((a1 == a) & (b1 != b))| ((a1 != a) & (b1 != b)):\n",
    "        menu_set4.append(df_three_col.iloc[i,0])\n",
    "        a5 = df_three_col.iloc[i,1]\n",
    "        b5 = df_three_col.iloc[i,2]\n",
    "        i = i+1\n",
    "    elif ((a1 != a) & (b1 == b))| ((a1 == a) & (b1 != b))| ((a1 != a) & (b1 != b)):\n",
    "        menu_set5.append(df_three_col.iloc[i,0])\n",
    "        a6 = df_three_col.iloc[i,1]\n",
    "        b6 = df_three_col.iloc[i,2]\n",
    "        i = i+1\n",
    "  \n",
    "\n",
    "\n"
   ]
  },
  {
   "cell_type": "code",
   "execution_count": 135,
   "metadata": {},
   "outputs": [],
   "source": [
    "import pymysql\n",
    "import pandas as pd\n",
    "import random\n",
    "\n",
    "conn = pymysql.connect(host='localhost',\n",
    "                       user='root',\n",
    "                       password='0610',\n",
    "                       db='new_1128',\n",
    "                       charset='utf8')\n",
    "\n",
    "sql_column = \"\"\"SELECT  COLUMN_NAME\n",
    "FROM    INFORMATION_SCHEMA.COLUMNS\n",
    "WHERE   TABLE_NAME = 'menu_score_all';\"\"\"\n",
    "\n",
    "with conn:\n",
    "    with conn.cursor() as cur:\n",
    "        cur.execute(sql_column)\n",
    "        result_column = cur.fetchall()\n",
    "\n",
    "conn = pymysql.connect(host='localhost',\n",
    "                       user='root',\n",
    "                       password='0610',\n",
    "                       db='new_1128',\n",
    "                       charset='utf8')\n",
    "\n",
    "sql = \"SELECT * FROM menu_score_all\"\n",
    "\n",
    "with conn:\n",
    "    with conn.cursor() as cur:\n",
    "        cur.execute(sql)\n",
    "        result = cur.fetchall()\n",
    "        df = pd.DataFrame(result, columns = result_column)\n",
    "\n",
    "# 기존 food_list 함수에서 final 부분 문장이 condition_str임\n",
    "condition_str = \"happy_fall\"\n",
    "\n",
    "# 조건에 따라 결정된 컬럼을 기준으로 내림차순 정렬\n",
    "df_sort = df.sort_values(('{}'.format(condition_str),),ascending=False)\n",
    "\n",
    "# 내림차순 정렬된 df에서 메뉴명, 레스토랑명, 조건가중치열만 추출\n",
    "df_three_col = pd.DataFrame(df_sort[[(\"menu\",),(\"restaurant\",),('{}'.format(condition_str),)]])\n",
    "\n",
    "df_three_col.columns = [\"menu\", \"restaurant\", \"{}\".format(condition_str)]\n",
    "\n",
    "df_three_col.reset_index(drop=True, inplace=True)\n",
    "\n",
    "\n",
    "# 가중치로 정렬했을때 상위 다섯개 레스토랑명 추출\n",
    "\n",
    "restaurant_list = []\n",
    "\n",
    "while len(set(restaurant_list))<5:\n",
    "    for restaurant_name in range(100):\n",
    "        restaurant_list.append(df_three_col.iloc[restaurant_name,1])\n",
    "        if len(set(restaurant_list))==5:\n",
    "            break\n",
    "\n",
    "\n",
    "\n",
    "# 다섯개 레스토랑명 restaurant_name_5에 담아줌\n",
    "restaurant_name_5 = list(set(restaurant_list))\n",
    "\n",
    "\n",
    "# 다섯개 식당별로 데이터프레임 생성\n",
    "# 가중치 값으로 정렬된 상태로 담김\n",
    "restaurant_menu_df_1 = df_three_col.loc[df_three_col[\"restaurant\"]==restaurant_name_5[0]]\n",
    "restaurant_menu_df_2 = df_three_col.loc[df_three_col[\"restaurant\"]==restaurant_name_5[1]]\n",
    "restaurant_menu_df_3 = df_three_col.loc[df_three_col[\"restaurant\"]==restaurant_name_5[2]]\n",
    "restaurant_menu_df_4 = df_three_col.loc[df_three_col[\"restaurant\"]==restaurant_name_5[3]]\n",
    "restaurant_menu_df_5 = df_three_col.loc[df_three_col[\"restaurant\"]==restaurant_name_5[4]]\n",
    "\n",
    "# 각 데이터프레임에서 가장 큰 가중치 값 산출\n",
    "restaurant_menu_df_1_large_score = restaurant_menu_df_1.iloc[0,2]\n",
    "restaurant_menu_df_2_large_score = restaurant_menu_df_2.iloc[0,2]\n",
    "restaurant_menu_df_3_large_score = restaurant_menu_df_3.iloc[0,2]\n",
    "restaurant_menu_df_4_large_score = restaurant_menu_df_4.iloc[0,2]\n",
    "restaurant_menu_df_5_large_score = restaurant_menu_df_5.iloc[0,2]\n",
    "\n",
    "# 각 식당별로 가장 높으면서 동일한 가중치를 가진 메뉴들을 담을 덩어리 생성\n",
    "restaurant_menu_df_1_list = list(restaurant_menu_df_1.loc[restaurant_menu_df_1[\"{}\".format(condition_str)]==restaurant_menu_df_1_large_score][\"menu\"])\n",
    "restaurant_menu_df_2_list = list(restaurant_menu_df_2.loc[restaurant_menu_df_2[\"{}\".format(condition_str)]==restaurant_menu_df_2_large_score][\"menu\"])\n",
    "restaurant_menu_df_3_list = list(restaurant_menu_df_3.loc[restaurant_menu_df_3[\"{}\".format(condition_str)]==restaurant_menu_df_3_large_score][\"menu\"])\n",
    "restaurant_menu_df_4_list = list(restaurant_menu_df_4.loc[restaurant_menu_df_4[\"{}\".format(condition_str)]==restaurant_menu_df_4_large_score][\"menu\"])\n",
    "restaurant_menu_df_5_list = list(restaurant_menu_df_5.loc[restaurant_menu_df_5[\"{}\".format(condition_str)]==restaurant_menu_df_5_large_score][\"menu\"])\n",
    "\n",
    "# 각 식당별로 랜덤으로 추출된 메뉴 한개를 각 변수에 저장\n",
    "recommend_menu_1 = random.choice(restaurant_menu_df_1_list)\n",
    "recommend_menu_2 = random.choice(restaurant_menu_df_2_list)\n",
    "recommend_menu_3 = random.choice(restaurant_menu_df_3_list)\n",
    "recommend_menu_4 = random.choice(restaurant_menu_df_4_list)\n",
    "recommend_menu_5 = random.choice(restaurant_menu_df_5_list)\n",
    "\n",
    "\n",
    "\n"
   ]
  },
  {
   "cell_type": "code",
   "execution_count": 136,
   "metadata": {},
   "outputs": [
    {
     "name": "stdout",
     "output_type": "stream",
     "text": [
      "Back다방\n",
      "본가\n",
      "돌배기\n",
      "롤링파스타\n",
      "빽보이\n"
     ]
    }
   ],
   "source": [
    "print(restaurant_name_5[0])\n",
    "print(restaurant_name_5[1])\n",
    "print(restaurant_name_5[2])\n",
    "print(restaurant_name_5[3])\n",
    "print(restaurant_name_5[4])"
   ]
  },
  {
   "cell_type": "code",
   "execution_count": 144,
   "metadata": {},
   "outputs": [
    {
     "data": {
      "text/plain": [
       "str"
      ]
     },
     "execution_count": 144,
     "metadata": {},
     "output_type": "execute_result"
    }
   ],
   "source": [
    "type(condition_str)"
   ]
  },
  {
   "cell_type": "code",
   "execution_count": 128,
   "metadata": {},
   "outputs": [
    {
     "data": {
      "text/plain": [
       "['닭한마리',\n",
       " '치즈듬뿍 닭갈비볶음밥',\n",
       " '성성닭무침',\n",
       " '간장찜닭',\n",
       " '무뼈불닭발볶음',\n",
       " '닭볶음탕 (약불/중불/지옥불)',\n",
       " '곱볶음탕(중불)',\n",
       " '성성닭조림']"
      ]
     },
     "execution_count": 128,
     "metadata": {},
     "output_type": "execute_result"
    }
   ],
   "source": [
    "restaurant_menu_df_3_list"
   ]
  },
  {
   "cell_type": "code",
   "execution_count": 129,
   "metadata": {},
   "outputs": [
    {
     "data": {
      "text/plain": [
       "'치즈듬뿍 닭갈비볶음밥'"
      ]
     },
     "execution_count": 129,
     "metadata": {},
     "output_type": "execute_result"
    }
   ],
   "source": [
    "recommend_menu_3"
   ]
  },
  {
   "cell_type": "code",
   "execution_count": 85,
   "metadata": {},
   "outputs": [
    {
     "data": {
      "text/plain": [
       "['삼겹살', '프라임 수제불고기', '돌배기', '프라임 큐브살치', '황제갈비살', '프라임 등심', '프라임 모둠']"
      ]
     },
     "execution_count": 85,
     "metadata": {},
     "output_type": "execute_result"
    }
   ],
   "source": [
    "restaurant_menu_df_3_list"
   ]
  },
  {
   "cell_type": "code",
   "execution_count": 86,
   "metadata": {},
   "outputs": [
    {
     "data": {
      "text/plain": [
       "['봉골레파스타',\n",
       " '트러플 크림 파스타',\n",
       " '알리오 올리오',\n",
       " '마르게리따 피자',\n",
       " '고르곤졸라피자',\n",
       " '쉬림프베이컨피자',\n",
       " '토마토 파스타',\n",
       " '해물 토마토 파스타',\n",
       " '바질페스토 크림파스타',\n",
       " '스테이크크림파스타',\n",
       " '매운 우삼겹토마토 파스타',\n",
       " '빼쉐파스타',\n",
       " '까르보나라',\n",
       " '로제크림쉬림프파스타',\n",
       " '로제크림쉬림프파스타',\n",
       " '매운 크림 파스타',\n",
       " '매운우삼겹오일파스타',\n",
       " '해물크림파스타']"
      ]
     },
     "execution_count": 86,
     "metadata": {},
     "output_type": "execute_result"
    }
   ],
   "source": [
    "restaurant_menu_df_4_list"
   ]
  },
  {
   "cell_type": "code",
   "execution_count": 87,
   "metadata": {},
   "outputs": [
    {
     "data": {
      "text/plain": [
       "['울트라빽보이', '허리케인포테이토', '미트폭탄', '슈퍼빽보이', '오마이갓페퍼로니', '불닭발레전드']"
      ]
     },
     "execution_count": 87,
     "metadata": {},
     "output_type": "execute_result"
    }
   ],
   "source": [
    "restaurant_menu_df_5_list"
   ]
  },
  {
   "cell_type": "code",
   "execution_count": 92,
   "metadata": {},
   "outputs": [
    {
     "data": {
      "text/plain": [
       "'울트라빽보이'"
      ]
     },
     "execution_count": 92,
     "metadata": {},
     "output_type": "execute_result"
    }
   ],
   "source": [
    "random.choice(restaurant_menu_df_5_list)"
   ]
  },
  {
   "cell_type": "code",
   "execution_count": null,
   "metadata": {},
   "outputs": [],
   "source": []
  }
 ],
 "metadata": {
  "kernelspec": {
   "display_name": "Python 3.9.15 ('base')",
   "language": "python",
   "name": "python3"
  },
  "language_info": {
   "codemirror_mode": {
    "name": "ipython",
    "version": 3
   },
   "file_extension": ".py",
   "mimetype": "text/x-python",
   "name": "python",
   "nbconvert_exporter": "python",
   "pygments_lexer": "ipython3",
   "version": "3.9.15"
  },
  "orig_nbformat": 4,
  "vscode": {
   "interpreter": {
    "hash": "ad2bdc8ecc057115af97d19610ffacc2b4e99fae6737bb82f5d7fb13d2f2c186"
   }
  }
 },
 "nbformat": 4,
 "nbformat_minor": 2
}
